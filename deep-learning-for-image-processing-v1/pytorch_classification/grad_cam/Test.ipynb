{
 "cells": [
  {
   "cell_type": "code",
   "execution_count": 1,
   "id": "4a455ddf-fb1a-4f5d-95b5-82c94fba9f2d",
   "metadata": {},
   "outputs": [
    {
     "name": "stdout",
     "output_type": "stream",
     "text": [
      "(412, 263, 3)\n"
     ]
    }
   ],
   "source": [
    "import numpy as np\n",
    "import itertools\n",
    "from hmmlearn import hmm\n",
    "\n",
    "from sklearn.preprocessing import StandardScaler\n",
    "\n",
    "import numpy as np\n",
    "import itertools\n",
    "from hmmlearn import hmm\n",
    "\n",
    "def calculate_transition_probability(region1, region2):\n",
    "    # Define the logic to calculate transition probabilities based on spatial relationships\n",
    "    return 0.5  \n",
    "\n",
    "# Load the saliency map\n",
    "saliency_map = np.load(\"/Users/luopeiyuan/Desktop/FYP/FYP_Codes/deep-learning-for-image-processing/pytorch_classification/grad_cam/ResNet_IMAGE_Folder/DogSaliencyData/10000.npy\")\n",
    "print(saliency_map.shape)\n",
    "\n",
    "# Step 1: Sort the saliency map based on the weights in descending order\n",
    "sorted_saliency_map = np.sort(saliency_map.flatten())[::-1]\n",
    "\n",
    "# Step 2: Divide the sorted saliency map into three equal-sized regions\n",
    "num_regions = 3\n",
    "region_size = len(sorted_saliency_map) // num_regions\n",
    "regions = np.split(sorted_saliency_map, num_regions)\n"
   ]
  },
  {
   "cell_type": "code",
   "execution_count": 18,
   "id": "3cdadeee-b76d-4757-b392-36d8c177d593",
   "metadata": {},
   "outputs": [
    {
     "name": "stdout",
     "output_type": "stream",
     "text": [
      "108356\n"
     ]
    }
   ],
   "source": [
    "print(region_size)"
   ]
  },
  {
   "cell_type": "code",
   "execution_count": 19,
   "id": "3781d2de-b934-4536-abe5-2c150f478ff4",
   "metadata": {},
   "outputs": [
    {
     "name": "stdout",
     "output_type": "stream",
     "text": [
      "325068\n"
     ]
    }
   ],
   "source": [
    "print(len(sorted_saliency_map))"
   ]
  },
  {
   "cell_type": "code",
   "execution_count": 2,
   "id": "f687e50b-11a5-4aa4-8120-7340022a836e",
   "metadata": {},
   "outputs": [],
   "source": [
    "# Step 3: Assign each region to a hidden state in the HMM\n",
    "num_states = num_regions\n",
    "hidden_states = np.arange(num_states)"
   ]
  },
  {
   "cell_type": "code",
   "execution_count": 3,
   "id": "e9cbb5ce-cbaa-4e9e-8fdc-405059d8d3ee",
   "metadata": {},
   "outputs": [],
   "source": [
    "# Step 4: Define the transition probabilities between the hidden states based on the spatial relationships between the regions\n",
    "transition_matrix = np.zeros((num_states, num_states))\n",
    "for i, j in itertools.product(range(num_states), repeat=2):\n",
    "    if i != j:\n",
    "        # Define the logic to calculate transition probabilities based on spatial relationships\n",
    "        transition_matrix[i, j] = calculate_transition_probability(regions[i], regions[j])\n"
   ]
  },
  {
   "cell_type": "code",
   "execution_count": 4,
   "id": "26fc04d5-f67a-4078-8b28-c6345c6ffba6",
   "metadata": {},
   "outputs": [],
   "source": [
    "# Step 5: Set the emission probabilities for each hidden state based on the saliency values within the corresponding region\n",
    "emission_probabilities = np.zeros((num_states, region_size))\n",
    "for i, region in enumerate(regions):\n",
    "    region_saliency_values = region[:region_size]  # Choose the top region_size saliency values\n",
    "    emission_probabilities[i, :len(region_saliency_values)] = region_saliency_values\n"
   ]
  },
  {
   "cell_type": "code",
   "execution_count": 5,
   "id": "1d046cb1-3225-4d50-a9b0-690bccfa021e",
   "metadata": {},
   "outputs": [
    {
     "name": "stderr",
     "output_type": "stream",
     "text": [
      "Even though the 'transmat_' attribute is set, it will be overwritten during initialization because 'init_params' contains 't'\n",
      "Even though the 'emissionprob_' attribute is set, it will be overwritten during initialization because 'init_params' contains 'e'\n"
     ]
    },
    {
     "data": {
      "text/html": [
       "<style>#sk-container-id-1 {color: black;}#sk-container-id-1 pre{padding: 0;}#sk-container-id-1 div.sk-toggleable {background-color: white;}#sk-container-id-1 label.sk-toggleable__label {cursor: pointer;display: block;width: 100%;margin-bottom: 0;padding: 0.3em;box-sizing: border-box;text-align: center;}#sk-container-id-1 label.sk-toggleable__label-arrow:before {content: \"▸\";float: left;margin-right: 0.25em;color: #696969;}#sk-container-id-1 label.sk-toggleable__label-arrow:hover:before {color: black;}#sk-container-id-1 div.sk-estimator:hover label.sk-toggleable__label-arrow:before {color: black;}#sk-container-id-1 div.sk-toggleable__content {max-height: 0;max-width: 0;overflow: hidden;text-align: left;background-color: #f0f8ff;}#sk-container-id-1 div.sk-toggleable__content pre {margin: 0.2em;color: black;border-radius: 0.25em;background-color: #f0f8ff;}#sk-container-id-1 input.sk-toggleable__control:checked~div.sk-toggleable__content {max-height: 200px;max-width: 100%;overflow: auto;}#sk-container-id-1 input.sk-toggleable__control:checked~label.sk-toggleable__label-arrow:before {content: \"▾\";}#sk-container-id-1 div.sk-estimator input.sk-toggleable__control:checked~label.sk-toggleable__label {background-color: #d4ebff;}#sk-container-id-1 div.sk-label input.sk-toggleable__control:checked~label.sk-toggleable__label {background-color: #d4ebff;}#sk-container-id-1 input.sk-hidden--visually {border: 0;clip: rect(1px 1px 1px 1px);clip: rect(1px, 1px, 1px, 1px);height: 1px;margin: -1px;overflow: hidden;padding: 0;position: absolute;width: 1px;}#sk-container-id-1 div.sk-estimator {font-family: monospace;background-color: #f0f8ff;border: 1px dotted black;border-radius: 0.25em;box-sizing: border-box;margin-bottom: 0.5em;}#sk-container-id-1 div.sk-estimator:hover {background-color: #d4ebff;}#sk-container-id-1 div.sk-parallel-item::after {content: \"\";width: 100%;border-bottom: 1px solid gray;flex-grow: 1;}#sk-container-id-1 div.sk-label:hover label.sk-toggleable__label {background-color: #d4ebff;}#sk-container-id-1 div.sk-serial::before {content: \"\";position: absolute;border-left: 1px solid gray;box-sizing: border-box;top: 0;bottom: 0;left: 50%;z-index: 0;}#sk-container-id-1 div.sk-serial {display: flex;flex-direction: column;align-items: center;background-color: white;padding-right: 0.2em;padding-left: 0.2em;position: relative;}#sk-container-id-1 div.sk-item {position: relative;z-index: 1;}#sk-container-id-1 div.sk-parallel {display: flex;align-items: stretch;justify-content: center;background-color: white;position: relative;}#sk-container-id-1 div.sk-item::before, #sk-container-id-1 div.sk-parallel-item::before {content: \"\";position: absolute;border-left: 1px solid gray;box-sizing: border-box;top: 0;bottom: 0;left: 50%;z-index: -1;}#sk-container-id-1 div.sk-parallel-item {display: flex;flex-direction: column;z-index: 1;position: relative;background-color: white;}#sk-container-id-1 div.sk-parallel-item:first-child::after {align-self: flex-end;width: 50%;}#sk-container-id-1 div.sk-parallel-item:last-child::after {align-self: flex-start;width: 50%;}#sk-container-id-1 div.sk-parallel-item:only-child::after {width: 0;}#sk-container-id-1 div.sk-dashed-wrapped {border: 1px dashed gray;margin: 0 0.4em 0.5em 0.4em;box-sizing: border-box;padding-bottom: 0.4em;background-color: white;}#sk-container-id-1 div.sk-label label {font-family: monospace;font-weight: bold;display: inline-block;line-height: 1.2em;}#sk-container-id-1 div.sk-label-container {text-align: center;}#sk-container-id-1 div.sk-container {/* jupyter's `normalize.less` sets `[hidden] { display: none; }` but bootstrap.min.css set `[hidden] { display: none !important; }` so we also need the `!important` here to be able to override the default hidden behavior on the sphinx rendered scikit-learn.org. See: https://github.com/scikit-learn/scikit-learn/issues/21755 */display: inline-block !important;position: relative;}#sk-container-id-1 div.sk-text-repr-fallback {display: none;}</style><div id=\"sk-container-id-1\" class=\"sk-top-container\"><div class=\"sk-text-repr-fallback\"><pre>CategoricalHMM(n_components=3, n_features=10,\n",
       "               random_state=RandomState(MT19937) at 0x10D2A8C40)</pre><b>In a Jupyter environment, please rerun this cell to show the HTML representation or trust the notebook. <br />On GitHub, the HTML representation is unable to render, please try loading this page with nbviewer.org.</b></div><div class=\"sk-container\" hidden><div class=\"sk-item\"><div class=\"sk-estimator sk-toggleable\"><input class=\"sk-toggleable__control sk-hidden--visually\" id=\"sk-estimator-id-1\" type=\"checkbox\" checked><label for=\"sk-estimator-id-1\" class=\"sk-toggleable__label sk-toggleable__label-arrow\">CategoricalHMM</label><div class=\"sk-toggleable__content\"><pre>CategoricalHMM(n_components=3, n_features=10,\n",
       "               random_state=RandomState(MT19937) at 0x10D2A8C40)</pre></div></div></div></div></div>"
      ],
      "text/plain": [
       "CategoricalHMM(n_components=3, n_features=10,\n",
       "               random_state=RandomState(MT19937) at 0x10D2A8C40)"
      ]
     },
     "execution_count": 5,
     "metadata": {},
     "output_type": "execute_result"
    }
   ],
   "source": [
    "# Step 6: Train the HMM using an appropriate algorithm (e.g., Baum-Welch algorithm) to estimate the model parameters\n",
    "training_data = np.random.randint(0, 10, size=(100, num_regions * region_size))  # Placeholder training data (integer symbols)\n",
    "training_data = training_data.astype(int)  # Convert training data to integers\n",
    "model = hmm.CategoricalHMM(n_components=num_states)\n",
    "model.transmat_ = transition_matrix\n",
    "model.emissionprob_ = emission_probabilities\n",
    "model.fit(training_data)  # Provide your own training data\n"
   ]
  },
  {
   "cell_type": "code",
   "execution_count": 21,
   "id": "98bff305-beac-44ae-a0db-ba608245317a",
   "metadata": {},
   "outputs": [
    {
     "name": "stdout",
     "output_type": "stream",
     "text": [
      "(3, 108356)\n",
      "(108356,)\n",
      "3\n",
      "[array([0.99998644, 0.99998429, 0.99998371, ..., 0.66734973, 0.66734438,\n",
      "       0.66734057]), array([0.66733923, 0.66733844, 0.66733789, ..., 0.33305249, 0.33305031,\n",
      "       0.33304869]), array([3.33044053e-01, 3.33043210e-01, 3.33042537e-01, ...,\n",
      "       1.22538102e-05, 1.35327914e-06, 9.99806531e-07])]\n"
     ]
    }
   ],
   "source": [
    "# Step 7: Predict the hidden states (regions) for new saliency maps based on the weights and coordinates\n",
    "new_saliency_map = np.random.rand(412, 263, 3)  # Placeholder new saliency map\n",
    "sorted_new_saliency_map = np.sort(new_saliency_map.flatten())[::-1]\n",
    "new_regions = np.split(sorted_new_saliency_map, num_regions)\n",
    "\n",
    "print(emission_probabilities.shape)\n",
    "print(new_regions[0][:region_size].shape)\n",
    "new_regions_indices = []\n",
    "print(num_regions)\n",
    "print(new_regions)\n",
    "\n",
    "\n"
   ]
  },
  {
   "cell_type": "raw",
   "id": "849ef701-daa8-4e44-8c88-9c3bd516e90e",
   "metadata": {},
   "source": [
    "print(emission_probabilities)"
   ]
  },
  {
   "cell_type": "code",
   "execution_count": 9,
   "id": "12baf9d9-7436-4e75-913b-82e4e03d02b5",
   "metadata": {},
   "outputs": [
    {
     "name": "stdout",
     "output_type": "stream",
     "text": [
      "[array([0.99999113, 0.99998926, 0.9999854 , ..., 0.66646532, 0.66646433,\n",
      "       0.66646293]), array([0.66646162, 0.66645489, 0.66645399, ..., 0.33312685, 0.33312005,\n",
      "       0.33311991]), array([3.33112561e-01, 3.33106941e-01, 3.33101791e-01, ...,\n",
      "       3.29385099e-06, 1.45654479e-06, 6.76347134e-07])]\n"
     ]
    }
   ],
   "source": [
    "print(new_regions)"
   ]
  },
  {
   "cell_type": "code",
   "execution_count": 11,
   "id": "b606afbb-4413-4c91-b509-ee66846660ed",
   "metadata": {},
   "outputs": [
    {
     "name": "stdout",
     "output_type": "stream",
     "text": [
      "[0.99999113 0.99998926 0.9999854  ... 0.66646532 0.66646433 0.66646293]\n"
     ]
    }
   ],
   "source": [
    "print(new_regions[0])"
   ]
  },
  {
   "cell_type": "code",
   "execution_count": 14,
   "id": "06a7d9f7-d3e7-48c2-826e-387e910bded7",
   "metadata": {},
   "outputs": [
    {
     "name": "stdout",
     "output_type": "stream",
     "text": [
      "108356\n"
     ]
    }
   ],
   "source": [
    "print(len(new_regions[0]))"
   ]
  },
  {
   "cell_type": "code",
   "execution_count": 15,
   "id": "d1ce4e5d-959b-42b8-9866-bb00170af726",
   "metadata": {},
   "outputs": [
    {
     "name": "stdout",
     "output_type": "stream",
     "text": [
      "108356\n"
     ]
    }
   ],
   "source": [
    "print(len(new_regions[1]))"
   ]
  },
  {
   "cell_type": "code",
   "execution_count": 16,
   "id": "75d1aa64-19f8-48d7-b5b2-e95835665bf7",
   "metadata": {},
   "outputs": [
    {
     "name": "stdout",
     "output_type": "stream",
     "text": [
      "108356\n"
     ]
    }
   ],
   "source": [
    "print(len(new_regions[2]))"
   ]
  },
  {
   "cell_type": "code",
   "execution_count": 12,
   "id": "7ea3cf5c-8366-4d45-8a10-5fc4f896c6e0",
   "metadata": {},
   "outputs": [
    {
     "name": "stdout",
     "output_type": "stream",
     "text": [
      "108356\n"
     ]
    }
   ],
   "source": [
    "print(region_size)"
   ]
  },
  {
   "cell_type": "code",
   "execution_count": null,
   "id": "fd901901-4d4f-416c-9336-8a86f5a73b23",
   "metadata": {},
   "outputs": [],
   "source": []
  },
  {
   "cell_type": "code",
   "execution_count": 23,
   "id": "f1088b92-ab33-448a-94b1-86ba91431f9a",
   "metadata": {},
   "outputs": [
    {
     "name": "stdout",
     "output_type": "stream",
     "text": [
      "[0.99998644 0.99998429 0.99998371 ... 0.66734973 0.66734438 0.66734057]\n",
      "[]\n",
      "[0.66733923 0.66733844 0.66733789 ... 0.33305249 0.33305031 0.33304869]\n",
      "[]\n",
      "[3.33044053e-01 3.33043210e-01 3.33042537e-01 ... 1.22538102e-05\n",
      " 1.35327914e-06 9.99806531e-07]\n",
      "[]\n",
      "[]\n",
      "[]\n"
     ]
    },
    {
     "ename": "ValueError",
     "evalue": "Found array with 0 sample(s) (shape=(0, 1)) while a minimum of 1 is required.",
     "output_type": "error",
     "traceback": [
      "\u001b[0;31m---------------------------------------------------------------------------\u001b[0m",
      "\u001b[0;31mValueError\u001b[0m                                Traceback (most recent call last)",
      "Cell \u001b[0;32mIn[23], line 16\u001b[0m\n\u001b[1;32m     13\u001b[0m \u001b[38;5;28mprint\u001b[39m(new_regions_indices)\n\u001b[1;32m     15\u001b[0m new_regions_indices \u001b[38;5;241m=\u001b[39m np\u001b[38;5;241m.\u001b[39mreshape(new_regions_indices, (\u001b[38;5;241m-\u001b[39m\u001b[38;5;241m1\u001b[39m, \u001b[38;5;241m1\u001b[39m))  \u001b[38;5;66;03m# Reshape to (num_regions, 1)\u001b[39;00m\n\u001b[0;32m---> 16\u001b[0m predicted_states \u001b[38;5;241m=\u001b[39m \u001b[43mmodel\u001b[49m\u001b[38;5;241;43m.\u001b[39;49m\u001b[43mpredict\u001b[49m\u001b[43m(\u001b[49m\u001b[43mnew_regions_indices\u001b[49m\u001b[43m)\u001b[49m\n\u001b[1;32m     18\u001b[0m \u001b[38;5;28mprint\u001b[39m(predicted_states)\n",
      "File \u001b[0;32m~/opt/anaconda3/envs/fyp/lib/python3.9/site-packages/hmmlearn/_emissions.py:27\u001b[0m, in \u001b[0;36m_make_wrapper.<locals>.<lambda>\u001b[0;34m(*args, **kwargs)\u001b[0m\n\u001b[1;32m     26\u001b[0m \u001b[38;5;28;01mdef\u001b[39;00m \u001b[38;5;21m_make_wrapper\u001b[39m(func):\n\u001b[0;32m---> 27\u001b[0m     \u001b[38;5;28;01mreturn\u001b[39;00m functools\u001b[38;5;241m.\u001b[39mwraps(func)(\u001b[38;5;28;01mlambda\u001b[39;00m \u001b[38;5;241m*\u001b[39margs, \u001b[38;5;241m*\u001b[39m\u001b[38;5;241m*\u001b[39mkwargs: \u001b[43mfunc\u001b[49m\u001b[43m(\u001b[49m\u001b[38;5;241;43m*\u001b[39;49m\u001b[43margs\u001b[49m\u001b[43m,\u001b[49m\u001b[43m \u001b[49m\u001b[38;5;241;43m*\u001b[39;49m\u001b[38;5;241;43m*\u001b[39;49m\u001b[43mkwargs\u001b[49m\u001b[43m)\u001b[49m)\n",
      "File \u001b[0;32m~/opt/anaconda3/envs/fyp/lib/python3.9/site-packages/hmmlearn/base.py:363\u001b[0m, in \u001b[0;36m_AbstractHMM.predict\u001b[0;34m(self, X, lengths)\u001b[0m\n\u001b[1;32m    346\u001b[0m \u001b[38;5;28;01mdef\u001b[39;00m \u001b[38;5;21mpredict\u001b[39m(\u001b[38;5;28mself\u001b[39m, X, lengths\u001b[38;5;241m=\u001b[39m\u001b[38;5;28;01mNone\u001b[39;00m):\n\u001b[1;32m    347\u001b[0m \u001b[38;5;250m    \u001b[39m\u001b[38;5;124;03m\"\"\"\u001b[39;00m\n\u001b[1;32m    348\u001b[0m \u001b[38;5;124;03m    Find most likely state sequence corresponding to ``X``.\u001b[39;00m\n\u001b[1;32m    349\u001b[0m \n\u001b[0;32m   (...)\u001b[0m\n\u001b[1;32m    361\u001b[0m \u001b[38;5;124;03m        Labels for each sample from ``X``.\u001b[39;00m\n\u001b[1;32m    362\u001b[0m \u001b[38;5;124;03m    \"\"\"\u001b[39;00m\n\u001b[0;32m--> 363\u001b[0m     _, state_sequence \u001b[38;5;241m=\u001b[39m \u001b[38;5;28;43mself\u001b[39;49m\u001b[38;5;241;43m.\u001b[39;49m\u001b[43mdecode\u001b[49m\u001b[43m(\u001b[49m\u001b[43mX\u001b[49m\u001b[43m,\u001b[49m\u001b[43m \u001b[49m\u001b[43mlengths\u001b[49m\u001b[43m)\u001b[49m\n\u001b[1;32m    364\u001b[0m     \u001b[38;5;28;01mreturn\u001b[39;00m state_sequence\n",
      "File \u001b[0;32m~/opt/anaconda3/envs/fyp/lib/python3.9/site-packages/hmmlearn/_emissions.py:27\u001b[0m, in \u001b[0;36m_make_wrapper.<locals>.<lambda>\u001b[0;34m(*args, **kwargs)\u001b[0m\n\u001b[1;32m     26\u001b[0m \u001b[38;5;28;01mdef\u001b[39;00m \u001b[38;5;21m_make_wrapper\u001b[39m(func):\n\u001b[0;32m---> 27\u001b[0m     \u001b[38;5;28;01mreturn\u001b[39;00m functools\u001b[38;5;241m.\u001b[39mwraps(func)(\u001b[38;5;28;01mlambda\u001b[39;00m \u001b[38;5;241m*\u001b[39margs, \u001b[38;5;241m*\u001b[39m\u001b[38;5;241m*\u001b[39mkwargs: \u001b[43mfunc\u001b[49m\u001b[43m(\u001b[49m\u001b[38;5;241;43m*\u001b[39;49m\u001b[43margs\u001b[49m\u001b[43m,\u001b[49m\u001b[43m \u001b[49m\u001b[38;5;241;43m*\u001b[39;49m\u001b[38;5;241;43m*\u001b[39;49m\u001b[43mkwargs\u001b[49m\u001b[43m)\u001b[49m)\n",
      "File \u001b[0;32m~/opt/anaconda3/envs/fyp/lib/python3.9/site-packages/hmmlearn/base.py:335\u001b[0m, in \u001b[0;36m_AbstractHMM.decode\u001b[0;34m(self, X, lengths, algorithm)\u001b[0m\n\u001b[1;32m    328\u001b[0m     \u001b[38;5;28;01mraise\u001b[39;00m \u001b[38;5;167;01mValueError\u001b[39;00m(\u001b[38;5;124mf\u001b[39m\u001b[38;5;124m\"\u001b[39m\u001b[38;5;124mUnknown decoder \u001b[39m\u001b[38;5;132;01m{\u001b[39;00malgorithm\u001b[38;5;132;01m!r}\u001b[39;00m\u001b[38;5;124m\"\u001b[39m)\n\u001b[1;32m    330\u001b[0m decoder \u001b[38;5;241m=\u001b[39m {\n\u001b[1;32m    331\u001b[0m     \u001b[38;5;124m\"\u001b[39m\u001b[38;5;124mviterbi\u001b[39m\u001b[38;5;124m\"\u001b[39m: \u001b[38;5;28mself\u001b[39m\u001b[38;5;241m.\u001b[39m_decode_viterbi,\n\u001b[1;32m    332\u001b[0m     \u001b[38;5;124m\"\u001b[39m\u001b[38;5;124mmap\u001b[39m\u001b[38;5;124m\"\u001b[39m: \u001b[38;5;28mself\u001b[39m\u001b[38;5;241m.\u001b[39m_decode_map\n\u001b[1;32m    333\u001b[0m }[algorithm]\n\u001b[0;32m--> 335\u001b[0m X \u001b[38;5;241m=\u001b[39m \u001b[43mcheck_array\u001b[49m\u001b[43m(\u001b[49m\u001b[43mX\u001b[49m\u001b[43m)\u001b[49m\n\u001b[1;32m    336\u001b[0m log_prob \u001b[38;5;241m=\u001b[39m \u001b[38;5;241m0\u001b[39m\n\u001b[1;32m    337\u001b[0m sub_state_sequences \u001b[38;5;241m=\u001b[39m []\n",
      "File \u001b[0;32m~/opt/anaconda3/envs/fyp/lib/python3.9/site-packages/sklearn/utils/validation.py:967\u001b[0m, in \u001b[0;36mcheck_array\u001b[0;34m(array, accept_sparse, accept_large_sparse, dtype, order, copy, force_all_finite, ensure_2d, allow_nd, ensure_min_samples, ensure_min_features, estimator, input_name)\u001b[0m\n\u001b[1;32m    965\u001b[0m     n_samples \u001b[38;5;241m=\u001b[39m _num_samples(array)\n\u001b[1;32m    966\u001b[0m     \u001b[38;5;28;01mif\u001b[39;00m n_samples \u001b[38;5;241m<\u001b[39m ensure_min_samples:\n\u001b[0;32m--> 967\u001b[0m         \u001b[38;5;28;01mraise\u001b[39;00m \u001b[38;5;167;01mValueError\u001b[39;00m(\n\u001b[1;32m    968\u001b[0m             \u001b[38;5;124m\"\u001b[39m\u001b[38;5;124mFound array with \u001b[39m\u001b[38;5;132;01m%d\u001b[39;00m\u001b[38;5;124m sample(s) (shape=\u001b[39m\u001b[38;5;132;01m%s\u001b[39;00m\u001b[38;5;124m) while a\u001b[39m\u001b[38;5;124m\"\u001b[39m\n\u001b[1;32m    969\u001b[0m             \u001b[38;5;124m\"\u001b[39m\u001b[38;5;124m minimum of \u001b[39m\u001b[38;5;132;01m%d\u001b[39;00m\u001b[38;5;124m is required\u001b[39m\u001b[38;5;132;01m%s\u001b[39;00m\u001b[38;5;124m.\u001b[39m\u001b[38;5;124m\"\u001b[39m\n\u001b[1;32m    970\u001b[0m             \u001b[38;5;241m%\u001b[39m (n_samples, array\u001b[38;5;241m.\u001b[39mshape, ensure_min_samples, context)\n\u001b[1;32m    971\u001b[0m         )\n\u001b[1;32m    973\u001b[0m \u001b[38;5;28;01mif\u001b[39;00m ensure_min_features \u001b[38;5;241m>\u001b[39m \u001b[38;5;241m0\u001b[39m \u001b[38;5;129;01mand\u001b[39;00m array\u001b[38;5;241m.\u001b[39mndim \u001b[38;5;241m==\u001b[39m \u001b[38;5;241m2\u001b[39m:\n\u001b[1;32m    974\u001b[0m     n_features \u001b[38;5;241m=\u001b[39m array\u001b[38;5;241m.\u001b[39mshape[\u001b[38;5;241m1\u001b[39m]\n",
      "\u001b[0;31mValueError\u001b[0m: Found array with 0 sample(s) (shape=(0, 1)) while a minimum of 1 is required."
     ]
    }
   ],
   "source": [
    "new_regions_indices = []\n",
    "for i in range(num_regions):\n",
    "    region = new_regions[i]\n",
    "    if len(region) > 0:\n",
    "        # \n",
    "        print(region)\n",
    "        indices = np.where(emission_probabilities[i] == region)[0]\n",
    "        print(indices)\n",
    "        if len(indices) > 0:\n",
    "            new_regions_indices.append(indices[0])\n",
    "print(new_regions_indices)\n",
    "new_regions_indices = np.array(new_regions_indices, dtype=int)  # Convert to integer type\n",
    "print(new_regions_indices)\n",
    "\n",
    "new_regions_indices = np.reshape(new_regions_indices, (-1, 1))  # Reshape to (num_regions, 1)\n",
    "predicted_states = model.predict(new_regions_indices)\n",
    "\n",
    "print(predicted_states)"
   ]
  },
  {
   "cell_type": "code",
   "execution_count": null,
   "id": "b2cbe75d-dc7e-4055-9a2d-bbd837af3bac",
   "metadata": {},
   "outputs": [],
   "source": []
  }
 ],
 "metadata": {
  "kernelspec": {
   "display_name": "Python 3 (ipykernel)",
   "language": "python",
   "name": "python3"
  },
  "language_info": {
   "codemirror_mode": {
    "name": "ipython",
    "version": 3
   },
   "file_extension": ".py",
   "mimetype": "text/x-python",
   "name": "python",
   "nbconvert_exporter": "python",
   "pygments_lexer": "ipython3",
   "version": "3.9.18"
  }
 },
 "nbformat": 4,
 "nbformat_minor": 5
}
