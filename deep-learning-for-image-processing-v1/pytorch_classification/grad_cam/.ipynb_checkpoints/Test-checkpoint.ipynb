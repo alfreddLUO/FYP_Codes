{
 "cells": [
  {
   "cell_type": "code",
   "execution_count": 1,
   "id": "4a455ddf-fb1a-4f5d-95b5-82c94fba9f2d",
   "metadata": {},
   "outputs": [
    {
     "name": "stdout",
     "output_type": "stream",
     "text": [
      "(412, 263, 3)\n"
     ]
    }
   ],
   "source": [
    "import numpy as np\n",
    "import itertools\n",
    "from hmmlearn import hmm\n",
    "\n",
    "from sklearn.preprocessing import StandardScaler\n",
    "\n",
    "# 加载Grad-CAM生成的saliency map数据\n",
    "import numpy as np\n",
    "import itertools\n",
    "from hmmlearn import hmm\n",
    "\n",
    "def calculate_transition_probability(region1, region2):\n",
    "    # Define your own logic to calculate transition probabilities based on spatial relationships\n",
    "    return 0.5  # Placeholder value\n",
    "\n",
    "# Load the saliency map\n",
    "saliency_map = np.load(\"/Users/luopeiyuan/Desktop/FYP/FYP_Codes/deep-learning-for-image-processing/pytorch_classification/grad_cam/ResNet_IMAGE_Folder/DogSaliencyData/10000.npy\")\n",
    "print(saliency_map.shape)\n",
    "\n",
    "# Step 1: Sort the saliency map based on the weights in descending order\n",
    "sorted_saliency_map = np.sort(saliency_map.flatten())[::-1]\n",
    "\n",
    "# Step 2: Divide the sorted saliency map into three equal-sized regions\n",
    "num_regions = 3\n",
    "region_size = len(sorted_saliency_map) // num_regions\n",
    "regions = np.split(sorted_saliency_map, num_regions)\n",
    "\n",
    "\n",
    "\n",
    "\n",
    "\n"
   ]
  },
  {
   "cell_type": "code",
   "execution_count": 2,
   "id": "f687e50b-11a5-4aa4-8120-7340022a836e",
   "metadata": {},
   "outputs": [],
   "source": [
    "# Step 3: Assign each region to a hidden state in the HMM\n",
    "num_states = num_regions\n",
    "hidden_states = np.arange(num_states)"
   ]
  },
  {
   "cell_type": "code",
   "execution_count": 3,
   "id": "e9cbb5ce-cbaa-4e9e-8fdc-405059d8d3ee",
   "metadata": {},
   "outputs": [],
   "source": [
    "# Step 4: Define the transition probabilities between the hidden states based on the spatial relationships between the regions\n",
    "transition_matrix = np.zeros((num_states, num_states))\n",
    "for i, j in itertools.product(range(num_states), repeat=2):\n",
    "    if i != j:\n",
    "        # Define your own logic to calculate transition probabilities based on spatial relationships\n",
    "        transition_matrix[i, j] = calculate_transition_probability(regions[i], regions[j])\n"
   ]
  },
  {
   "cell_type": "code",
   "execution_count": 4,
   "id": "26fc04d5-f67a-4078-8b28-c6345c6ffba6",
   "metadata": {},
   "outputs": [],
   "source": [
    "# Step 5: Set the emission probabilities for each hidden state based on the saliency values within the corresponding region\n",
    "emission_probabilities = np.zeros((num_states, region_size))\n",
    "for i, region in enumerate(regions):\n",
    "    region_saliency_values = region[:region_size]  # Choose the top region_size saliency values\n",
    "    emission_probabilities[i, :len(region_saliency_values)] = region_saliency_values\n"
   ]
  },
  {
   "cell_type": "code",
   "execution_count": 5,
   "id": "1d046cb1-3225-4d50-a9b0-690bccfa021e",
   "metadata": {},
   "outputs": [
    {
     "name": "stderr",
     "output_type": "stream",
     "text": [
      "Even though the 'transmat_' attribute is set, it will be overwritten during initialization because 'init_params' contains 't'\n",
      "Even though the 'emissionprob_' attribute is set, it will be overwritten during initialization because 'init_params' contains 'e'\n"
     ]
    },
    {
     "data": {
      "text/html": [
       "<style>#sk-container-id-1 {color: black;}#sk-container-id-1 pre{padding: 0;}#sk-container-id-1 div.sk-toggleable {background-color: white;}#sk-container-id-1 label.sk-toggleable__label {cursor: pointer;display: block;width: 100%;margin-bottom: 0;padding: 0.3em;box-sizing: border-box;text-align: center;}#sk-container-id-1 label.sk-toggleable__label-arrow:before {content: \"▸\";float: left;margin-right: 0.25em;color: #696969;}#sk-container-id-1 label.sk-toggleable__label-arrow:hover:before {color: black;}#sk-container-id-1 div.sk-estimator:hover label.sk-toggleable__label-arrow:before {color: black;}#sk-container-id-1 div.sk-toggleable__content {max-height: 0;max-width: 0;overflow: hidden;text-align: left;background-color: #f0f8ff;}#sk-container-id-1 div.sk-toggleable__content pre {margin: 0.2em;color: black;border-radius: 0.25em;background-color: #f0f8ff;}#sk-container-id-1 input.sk-toggleable__control:checked~div.sk-toggleable__content {max-height: 200px;max-width: 100%;overflow: auto;}#sk-container-id-1 input.sk-toggleable__control:checked~label.sk-toggleable__label-arrow:before {content: \"▾\";}#sk-container-id-1 div.sk-estimator input.sk-toggleable__control:checked~label.sk-toggleable__label {background-color: #d4ebff;}#sk-container-id-1 div.sk-label input.sk-toggleable__control:checked~label.sk-toggleable__label {background-color: #d4ebff;}#sk-container-id-1 input.sk-hidden--visually {border: 0;clip: rect(1px 1px 1px 1px);clip: rect(1px, 1px, 1px, 1px);height: 1px;margin: -1px;overflow: hidden;padding: 0;position: absolute;width: 1px;}#sk-container-id-1 div.sk-estimator {font-family: monospace;background-color: #f0f8ff;border: 1px dotted black;border-radius: 0.25em;box-sizing: border-box;margin-bottom: 0.5em;}#sk-container-id-1 div.sk-estimator:hover {background-color: #d4ebff;}#sk-container-id-1 div.sk-parallel-item::after {content: \"\";width: 100%;border-bottom: 1px solid gray;flex-grow: 1;}#sk-container-id-1 div.sk-label:hover label.sk-toggleable__label {background-color: #d4ebff;}#sk-container-id-1 div.sk-serial::before {content: \"\";position: absolute;border-left: 1px solid gray;box-sizing: border-box;top: 0;bottom: 0;left: 50%;z-index: 0;}#sk-container-id-1 div.sk-serial {display: flex;flex-direction: column;align-items: center;background-color: white;padding-right: 0.2em;padding-left: 0.2em;position: relative;}#sk-container-id-1 div.sk-item {position: relative;z-index: 1;}#sk-container-id-1 div.sk-parallel {display: flex;align-items: stretch;justify-content: center;background-color: white;position: relative;}#sk-container-id-1 div.sk-item::before, #sk-container-id-1 div.sk-parallel-item::before {content: \"\";position: absolute;border-left: 1px solid gray;box-sizing: border-box;top: 0;bottom: 0;left: 50%;z-index: -1;}#sk-container-id-1 div.sk-parallel-item {display: flex;flex-direction: column;z-index: 1;position: relative;background-color: white;}#sk-container-id-1 div.sk-parallel-item:first-child::after {align-self: flex-end;width: 50%;}#sk-container-id-1 div.sk-parallel-item:last-child::after {align-self: flex-start;width: 50%;}#sk-container-id-1 div.sk-parallel-item:only-child::after {width: 0;}#sk-container-id-1 div.sk-dashed-wrapped {border: 1px dashed gray;margin: 0 0.4em 0.5em 0.4em;box-sizing: border-box;padding-bottom: 0.4em;background-color: white;}#sk-container-id-1 div.sk-label label {font-family: monospace;font-weight: bold;display: inline-block;line-height: 1.2em;}#sk-container-id-1 div.sk-label-container {text-align: center;}#sk-container-id-1 div.sk-container {/* jupyter's `normalize.less` sets `[hidden] { display: none; }` but bootstrap.min.css set `[hidden] { display: none !important; }` so we also need the `!important` here to be able to override the default hidden behavior on the sphinx rendered scikit-learn.org. See: https://github.com/scikit-learn/scikit-learn/issues/21755 */display: inline-block !important;position: relative;}#sk-container-id-1 div.sk-text-repr-fallback {display: none;}</style><div id=\"sk-container-id-1\" class=\"sk-top-container\"><div class=\"sk-text-repr-fallback\"><pre>CategoricalHMM(n_components=3, n_features=10,\n",
       "               random_state=RandomState(MT19937) at 0x10D2A8C40)</pre><b>In a Jupyter environment, please rerun this cell to show the HTML representation or trust the notebook. <br />On GitHub, the HTML representation is unable to render, please try loading this page with nbviewer.org.</b></div><div class=\"sk-container\" hidden><div class=\"sk-item\"><div class=\"sk-estimator sk-toggleable\"><input class=\"sk-toggleable__control sk-hidden--visually\" id=\"sk-estimator-id-1\" type=\"checkbox\" checked><label for=\"sk-estimator-id-1\" class=\"sk-toggleable__label sk-toggleable__label-arrow\">CategoricalHMM</label><div class=\"sk-toggleable__content\"><pre>CategoricalHMM(n_components=3, n_features=10,\n",
       "               random_state=RandomState(MT19937) at 0x10D2A8C40)</pre></div></div></div></div></div>"
      ],
      "text/plain": [
       "CategoricalHMM(n_components=3, n_features=10,\n",
       "               random_state=RandomState(MT19937) at 0x10D2A8C40)"
      ]
     },
     "execution_count": 5,
     "metadata": {},
     "output_type": "execute_result"
    }
   ],
   "source": [
    "# Step 6: Train the HMM using an appropriate algorithm (e.g., Baum-Welch algorithm) to estimate the model parameters\n",
    "training_data = np.random.randint(0, 10, size=(100, num_regions * region_size))  # Placeholder training data (integer symbols)\n",
    "training_data = training_data.astype(int)  # Convert training data to integers\n",
    "model = hmm.CategoricalHMM(n_components=num_states)\n",
    "model.transmat_ = transition_matrix\n",
    "model.emissionprob_ = emission_probabilities\n",
    "model.fit(training_data)  # Provide your own training data\n"
   ]
  },
  {
   "cell_type": "code",
   "execution_count": 6,
   "id": "98bff305-beac-44ae-a0db-ba608245317a",
   "metadata": {},
   "outputs": [
    {
     "name": "stdout",
     "output_type": "stream",
     "text": [
      "(3, 108356)\n",
      "(108356,)\n",
      "3\n",
      "[array([0.99999113, 0.99998926, 0.9999854 , ..., 0.66646532, 0.66646433,\n",
      "       0.66646293]), array([0.66646162, 0.66645489, 0.66645399, ..., 0.33312685, 0.33312005,\n",
      "       0.33311991]), array([3.33112561e-01, 3.33106941e-01, 3.33101791e-01, ...,\n",
      "       3.29385099e-06, 1.45654479e-06, 6.76347134e-07])]\n"
     ]
    }
   ],
   "source": [
    "# Step 7: Predict the hidden states (regions) for new saliency maps based on their weights and spatial relationships\n",
    "new_saliency_map = np.random.rand(412, 263, 3)  # Placeholder new saliency map\n",
    "sorted_new_saliency_map = np.sort(new_saliency_map.flatten())[::-1]\n",
    "new_regions = np.split(sorted_new_saliency_map, num_regions)\n",
    "\n",
    "\n",
    "print(emission_probabilities.shape)\n",
    "print(new_regions[0][:region_size].shape)\n",
    "new_regions_indices = []\n",
    "print(num_regions)\n",
    "print(new_regions)\n",
    "\n",
    "\n"
   ]
  },
  {
   "cell_type": "code",
   "execution_count": null,
   "id": "f1088b92-ab33-448a-94b1-86ba91431f9a",
   "metadata": {},
   "outputs": [],
   "source": [
    "new_regions_indices = []\n",
    "for i in range(num_regions):\n",
    "    region = new_regions[i][:region_size]\n",
    "    if len(region) > 0:\n",
    "        # Find the index only if the region is not empty\n",
    "        indices = np.where(emission_probabilities[i] == region)[0]\n",
    "        if len(indices) > 0:\n",
    "            new_regions_indices.append(indices[0])\n",
    "print(new_regions_indices)\n",
    "new_regions_indices = np.array(new_regions_indices, dtype=int)  # Convert to integer type\n",
    "print(new_regions_indices)\n",
    "\n",
    "new_regions_indices = np.reshape(new_regions_indices, (-1, 1))  # Reshape to (num_regions, 1)\n",
    "predicted_states = model.predict(new_regions_indices)\n",
    "\n",
    "print(predicted_states)"
   ]
  }
 ],
 "metadata": {
  "kernelspec": {
   "display_name": "Python 3 (ipykernel)",
   "language": "python",
   "name": "python3"
  },
  "language_info": {
   "codemirror_mode": {
    "name": "ipython",
    "version": 3
   },
   "file_extension": ".py",
   "mimetype": "text/x-python",
   "name": "python",
   "nbconvert_exporter": "python",
   "pygments_lexer": "ipython3",
   "version": "3.9.18"
  }
 },
 "nbformat": 4,
 "nbformat_minor": 5
}
