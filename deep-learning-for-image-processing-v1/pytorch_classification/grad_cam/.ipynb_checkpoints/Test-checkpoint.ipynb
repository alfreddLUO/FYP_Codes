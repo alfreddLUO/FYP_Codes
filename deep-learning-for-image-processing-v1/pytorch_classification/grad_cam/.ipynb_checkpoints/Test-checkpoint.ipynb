{
 "cells": [
  {
   "cell_type": "code",
   "execution_count": null,
   "id": "4a455ddf-fb1a-4f5d-95b5-82c94fba9f2d",
   "metadata": {},
   "outputs": [],
   "source": [
    "import numpy as np\n",
    "import itertools\n",
    "from hmmlearn import hmm\n",
    "\n",
    "from sklearn.preprocessing import StandardScaler\n",
    "\n",
    "# 加载Grad-CAM生成的saliency map数据\n",
    "import numpy as np\n",
    "import itertools\n",
    "from hmmlearn import hmm\n",
    "\n",
    "def calculate_transition_probability(region1, region2):\n",
    "    # Define your own logic to calculate transition probabilities based on spatial relationships\n",
    "    return 0.5  # Placeholder value\n",
    "\n",
    "# Load the saliency map\n",
    "saliency_map = np.load(\"/Users/luopeiyuan/Desktop/FYP/FYP_Codes/deep-learning-for-image-processing/pytorch_classification/grad_cam/ResNet_IMAGE_Folder/DogSaliencyData/10000.npy\")\n",
    "print(saliency_map.shape)\n",
    "\n",
    "# Step 1: Sort the saliency map based on the weights in descending order\n",
    "sorted_saliency_map = np.sort(saliency_map.flatten())[::-1]\n",
    "\n",
    "# Step 2: Divide the sorted saliency map into three equal-sized regions\n",
    "num_regions = 3\n",
    "region_size = len(sorted_saliency_map) // num_regions\n",
    "regions = np.split(sorted_saliency_map, num_regions)\n",
    "\n",
    "\n",
    "\n",
    "\n",
    "\n"
   ]
  },
  {
   "cell_type": "code",
   "execution_count": null,
   "id": "f687e50b-11a5-4aa4-8120-7340022a836e",
   "metadata": {},
   "outputs": [],
   "source": [
    "# Step 3: Assign each region to a hidden state in the HMM\n",
    "num_states = num_regions\n",
    "hidden_states = np.arange(num_states)"
   ]
  },
  {
   "cell_type": "code",
   "execution_count": null,
   "id": "e9cbb5ce-cbaa-4e9e-8fdc-405059d8d3ee",
   "metadata": {},
   "outputs": [],
   "source": [
    "# Step 4: Define the transition probabilities between the hidden states based on the spatial relationships between the regions\n",
    "transition_matrix = np.zeros((num_states, num_states))\n",
    "for i, j in itertools.product(range(num_states), repeat=2):\n",
    "    if i != j:\n",
    "        # Define your own logic to calculate transition probabilities based on spatial relationships\n",
    "        transition_matrix[i, j] = calculate_transition_probability(regions[i], regions[j])\n"
   ]
  },
  {
   "cell_type": "code",
   "execution_count": null,
   "id": "26fc04d5-f67a-4078-8b28-c6345c6ffba6",
   "metadata": {},
   "outputs": [],
   "source": [
    "# Step 5: Set the emission probabilities for each hidden state based on the saliency values within the corresponding region\n",
    "emission_probabilities = np.zeros((num_states, region_size))\n",
    "for i, region in enumerate(regions):\n",
    "    region_saliency_values = region[:region_size]  # Choose the top region_size saliency values\n",
    "    emission_probabilities[i, :len(region_saliency_values)] = region_saliency_values\n"
   ]
  },
  {
   "cell_type": "code",
   "execution_count": null,
   "id": "1d046cb1-3225-4d50-a9b0-690bccfa021e",
   "metadata": {},
   "outputs": [],
   "source": [
    "# Step 6: Train the HMM using an appropriate algorithm (e.g., Baum-Welch algorithm) to estimate the model parameters\n",
    "training_data = np.random.randint(0, 10, size=(100, num_regions * region_size))  # Placeholder training data (integer symbols)\n",
    "training_data = training_data.astype(int)  # Convert training data to integers\n",
    "model = hmm.CategoricalHMM(n_components=num_states)\n",
    "model.transmat_ = transition_matrix\n",
    "model.emissionprob_ = emission_probabilities\n",
    "model.fit(training_data)  # Provide your own training data\n"
   ]
  },
  {
   "cell_type": "code",
   "execution_count": null,
   "id": "98bff305-beac-44ae-a0db-ba608245317a",
   "metadata": {},
   "outputs": [],
   "source": [
    "# Step 7: Predict the hidden states (regions) for new saliency maps based on their weights and spatial relationships\n",
    "new_saliency_map = np.random.rand(412, 263, 3)  # Placeholder new saliency map\n",
    "sorted_new_saliency_map = np.sort(new_saliency_map.flatten())[::-1]\n",
    "new_regions = np.split(sorted_new_saliency_map, num_regions)\n",
    "\n",
    "\n",
    "print(emission_probabilities.shape)\n",
    "print(new_regions[0][:region_size].shape)\n",
    "new_regions_indices = []\n",
    "print(num_regions)\n",
    "print(new_regions)\n",
    "new_regions_indices = []\n",
    "for i in range(num_regions):\n",
    "    region = new_regions[i][:region_size]\n",
    "    if len(region) > 0:\n",
    "        # Find the index only if the region is not empty\n",
    "        indices = np.where(emission_probabilities[i] == region)[0]\n",
    "        if len(indices) > 0:\n",
    "            new_regions_indices.append(indices[0])\n",
    "print(new_regions_indices)\n",
    "new_regions_indices = np.array(new_regions_indices, dtype=int)  # Convert to integer type\n",
    "print(new_regions_indices)\n",
    "\n",
    "new_regions_indices = np.reshape(new_regions_indices, (-1, 1))  # Reshape to (num_regions, 1)\n",
    "predicted_states = model.predict(new_regions_indices)\n",
    "\n",
    "print(predicted_states)\n",
    "\n"
   ]
  }
 ],
 "metadata": {
  "kernelspec": {
   "display_name": "Python 3 (ipykernel)",
   "language": "python",
   "name": "python3"
  },
  "language_info": {
   "codemirror_mode": {
    "name": "ipython",
    "version": 3
   },
   "file_extension": ".py",
   "mimetype": "text/x-python",
   "name": "python",
   "nbconvert_exporter": "python",
   "pygments_lexer": "ipython3",
   "version": "3.9.18"
  }
 },
 "nbformat": 4,
 "nbformat_minor": 5
}
